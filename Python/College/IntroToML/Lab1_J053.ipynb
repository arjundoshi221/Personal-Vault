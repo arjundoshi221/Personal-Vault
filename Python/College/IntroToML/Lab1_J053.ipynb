{
 "cells": [
  {
   "cell_type": "code",
   "execution_count": 2,
   "metadata": {},
   "outputs": [],
   "source": [
    "import numpy as np\n",
    "import matplotlib.pyplot as plt\n"
   ]
  },
  {
   "cell_type": "markdown",
   "metadata": {},
   "source": [
    "## Initializaion of Variables & Dataframes"
   ]
  },
  {
   "cell_type": "code",
   "execution_count": 9,
   "metadata": {},
   "outputs": [
    {
     "name": "stdout",
     "output_type": "stream",
     "text": [
      "(10,)\n",
      "(10,)\n"
     ]
    }
   ],
   "source": [
    "y = np.array([0,0.22,0.58,0.2,0.55,0.39,0.54,0.53,1,0.61])\n",
    "x = np.array([0,0.22,0.24,0.33,0.37,0.44,0.44,0.57,0.93,1])\n",
    "\n",
    "m = float(len(x))\n",
    "print(x.shape)\n",
    "print(y.shape)"
   ]
  },
  {
   "cell_type": "code",
   "execution_count": 10,
   "metadata": {},
   "outputs": [
    {
     "name": "stdout",
     "output_type": "stream",
     "text": [
      "theta0: 0.14228408239533236\n",
      "theta1: 0.7042127569600226\n"
     ]
    },
    {
     "data": {
      "text/plain": [
       "array([5.09762450e-01, 4.97234470e-01, 4.85012690e-01, ...,\n",
       "       5.55457804e-11, 5.54669233e-11, 5.53881781e-11])"
      ]
     },
     "execution_count": 10,
     "metadata": {},
     "output_type": "execute_result"
    }
   ],
   "source": [
    "theta0 = 0.35\n",
    "theta1 = 0.95\n",
    "alpha = 0.01\n",
    "epoch = 10000\n",
    "cost_list = []\n",
    "\n",
    "for i in range(epoch):\n",
    "\n",
    "    h = theta0 + theta1*x\n",
    "    djdtheta0 = (1/m)*sum(h-y)\n",
    "    djdtheta1 = (1/m)*sum((h-y)*x)\n",
    "    cost = (1/(2*m))*(sum(h-y)**2)\n",
    "\n",
    "    cost_list.append(cost)\n",
    "\n",
    "    theta0 = theta0 - alpha*djdtheta0\n",
    "    theta1 = theta1 - alpha*djdtheta1\n",
    "\n",
    "print(f\"theta0: {theta0}\")\n",
    "print(f\"theta1: {theta1}\")\n",
    "#print(cost_list)\n",
    "\n",
    "np.asarray(cost_list)"
   ]
  },
  {
   "cell_type": "code",
   "execution_count": 11,
   "metadata": {},
   "outputs": [
    {
     "data": {
      "text/plain": [
       "[<matplotlib.lines.Line2D at 0x2556db56bb0>]"
      ]
     },
     "execution_count": 11,
     "metadata": {},
     "output_type": "execute_result"
    },
    {
     "data": {
      "image/png": "[encoded data removed]",
      "text/plain": [
       "<Figure size 432x288 with 1 Axes>"
      ]
     },
     "metadata": {
      "needs_background": "light"
     },
     "output_type": "display_data"
    },
    {
     "name": "stderr",
     "output_type": "stream",
     "text": [
      "error uploading: HTTPSConnectionPool(host='api.segment.io', port=443): Max retries exceeded with url: /v1/batch (Caused by NewConnectionError('<urllib3.connection.HTTPSConnection object at 0x000002556D9BFCD0>: Failed to establish a new connection: [Errno 11001] getaddrinfo failed'))\n"
     ]
    }
   ],
   "source": [
    "plt.plot(cost_list)"
   ]
  }
 ],
 "metadata": {
  "kernelspec": {
   "display_name": "Python 3.9.1 64-bit",
   "language": "python",
   "name": "python3"
  },
  "language_info": {
   "codemirror_mode": {
    "name": "ipython",
    "version": 3
   },
   "file_extension": ".py",
   "mimetype": "text/x-python",
   "name": "python",
   "nbconvert_exporter": "python",
   "pygments_lexer": "ipython3",
   "version": "3.9.1"
  },
  "orig_nbformat": 4,
  "vscode": {
   "interpreter": {
    "hash": "11938c6bc6919ae2720b4d5011047913343b08a43b18698fd82dedb0d4417594"
   }
  }
 },
 "nbformat": 4,
 "nbformat_minor": 2
}
