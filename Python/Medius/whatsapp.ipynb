{
 "cells": [
  {
   "cell_type": "code",
   "execution_count": 2,
   "metadata": {},
   "outputs": [
    {
     "name": "stdout",
     "output_type": "stream",
     "text": [
      "1\n",
      "15 24\n",
      "In 20 Seconds WhatsApp will open and after 15 Seconds Message will be Delivered!\n",
      "2\n",
      "15 25\n",
      "In 38 Seconds WhatsApp will open and after 15 Seconds Message will be Delivered!\n"
     ]
    }
   ],
   "source": [
    "import pywhatkit as w\n",
    "import pyautogui\n",
    "import keyboard as k\n",
    "import time\n",
    "from pynput.mouse import Button, Controller\n",
    "import pandas as pd\n",
    "import csv\n",
    "\n",
    "mouse = Controller()\n",
    "\n",
    "\n",
    "def whatmsg(phone, name):\n",
    "    year, month, day, hour, min = map(\n",
    "        int, time.strftime(\"%Y %m %d %H %M\").split())\n",
    "    print(hour, min)\n",
    "    w.sendwhatmsg(phone, f\"Hello,\\n\\nYou applied for a telecaller/legal collection debt collection agent job on {name} at Medius Technologies Pvt Ltd.\\n\\nWe are conducting walk-in interviews between 1-6 p.m. on 16th & 17th May at our Churchgate office.\\n\\nWe have 50 vacancies so you can share this with others who is looking for a job and ask them to come for the walk-in interview.\\n\\nAddress - F-21, 7th Floor, Manek Mahal, Next to Ambassador Hotel, Churchgate, Mumbai 400020\\n\\nRegards,\\nHR Team - Medius Technologies \\n9028450476\",\n",
    "                  hour, min+1, 15)\n",
    "    #pyautogui.click(x=1280, y=1080)\n",
    "    time.sleep(5)\n",
    "    mouse.position = (1280, 1080)\n",
    "    mouse.move = (5, -5)\n",
    "    mouse.press(Button.left)\n",
    "    mouse.release(Button.left)\n",
    "    k.press_and_release('enter')\n",
    "\n",
    "\n",
    "# Opening the CSV (Of the applicants/raw data)\n",
    "dict_from_csv = pd.read_csv(\n",
    "    \"C:/Users/arjd2/OneDrive/Desktop/jobtestquick.csv\", header=None, index_col=0, squeeze=True).to_dict()\n",
    "\n",
    "# Counter/country code to check for successful sends\n",
    "c = 0\n",
    "countrycode = \"+91\"\n",
    "\n",
    "# WhatsappSending function\n",
    "for phone, name in dict_from_csv.items():\n",
    "    c = c+1\n",
    "    print(c)\n",
    "    phone1 = countrycode + str(phone)\n",
    "    name1 = str(name)\n",
    "\n",
    "    whatmsg(phone1, name1)\n"
   ]
  }
 ],
 "metadata": {
  "interpreter": {
   "hash": "11938c6bc6919ae2720b4d5011047913343b08a43b18698fd82dedb0d4417594"
  },
  "kernelspec": {
   "display_name": "Python 3.9.1 64-bit",
   "language": "python",
   "name": "python3"
  },
  "language_info": {
   "codemirror_mode": {
    "name": "ipython",
    "version": 3
   },
   "file_extension": ".py",
   "mimetype": "text/x-python",
   "name": "python",
   "nbconvert_exporter": "python",
   "pygments_lexer": "ipython3",
   "version": "3.9.1"
  },
  "orig_nbformat": 4
 },
 "nbformat": 4,
 "nbformat_minor": 2
}
